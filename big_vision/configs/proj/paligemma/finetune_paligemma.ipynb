{
  "cells": [
    {
      "cell_type": "markdown",
      "metadata": {
        "id": "view-in-github",
        "colab_type": "text"
      },
      "source": [
        "<a href=\"https://colab.research.google.com/github/sri299792458/stat8105_finetuning_paligemma/blob/main/big_vision/configs/proj/paligemma/finetune_paligemma.ipynb\" target=\"_parent\"><img src=\"https://colab.research.google.com/assets/colab-badge.svg\" alt=\"Open In Colab\"/></a>"
      ]
    },
    {
      "cell_type": "markdown",
      "metadata": {
        "id": "wR53lePHuiP-"
      },
      "source": [
        "# Finetune PaliGemma\n",
        "\n",
        "> *These models and code are not official Google products and were trained and released for research purposes.*\n",
        "\n",
        "\n",
        "**This notebook shows how to finetune PaliGemma 2 on a vision-language task.**\n",
        "The training data consists of 90 pairs of images and long captions describing them.\n",
        "To make it runnable on a T4 colab runtime with 16GB HBM and 12GB RAM, we opt to only finetune the attention layers of the language model and freeze the other parameters.\n",
        "\n",
        " **This setup is illustrative**. In a real usecase, the amount of data, trainable parameters, training steps and hyper-parameters and obtained results could be significantly different.\n",
        "\n",
        "This notebook uses the model reference implementation from [big_vision](https://github.com/google-research/big_vision).\n",
        "and shows how to:\n",
        "\n",
        " * Install deps, download model checkpoint and training data.\n",
        " * Load the model onto GPU devices.\n",
        " * Prepare the input to the model for training and inference.\n",
        " * Finetune the model and inspect output in validation split."
      ]
    },
    {
      "cell_type": "markdown",
      "metadata": {
        "id": "6U0QUFveqSP2"
      },
      "source": [
        "## Setup"
      ]
    },
    {
      "cell_type": "code",
      "execution_count": 3,
      "metadata": {
        "id": "DfxKb3F839Ks",
        "colab": {
          "base_uri": "https://localhost:8080/"
        },
        "outputId": "fe913f0c-f642-4339-c58c-8c50f846e7a2"
      },
      "outputs": [
        {
          "output_type": "stream",
          "name": "stdout",
          "text": [
            "\u001b[?25l   \u001b[90m━━━━━━━━━━━━━━━━━━━━━━━━━━━━━━━━━━━━━━━━\u001b[0m \u001b[32m0.0/76.7 kB\u001b[0m \u001b[31m?\u001b[0m eta \u001b[36m-:--:--\u001b[0m\r\u001b[2K   \u001b[90m━━━━━━━━━━━━━━━━━━━━━━━━━━━━━━━━━━━━━━━━\u001b[0m \u001b[32m76.7/76.7 kB\u001b[0m \u001b[31m7.5 MB/s\u001b[0m eta \u001b[36m0:00:00\u001b[0m\n",
            "\u001b[?25h"
          ]
        }
      ],
      "source": [
        "# @title Fetch big_vision code and install dependencies.\n",
        "import os\n",
        "import sys\n",
        "\n",
        "# TPUs with\n",
        "if \"COLAB_TPU_ADDR\" in os.environ:\n",
        "  raise \"It seems you are using Colab with remote TPUs which is not supported.\"\n",
        "\n",
        "# Fetch big_vision repository if python doesn't know about it and install\n",
        "# dependencies needed for this notebook.\n",
        "if not os.path.exists(\"big_vision_repo\"):\n",
        "  !git clone --quiet --branch=main --depth=1 \\\n",
        "     https://github.com/google-research/big_vision big_vision_repo\n",
        "\n",
        "# Append big_vision code to python import path\n",
        "if \"big_vision_repo\" not in sys.path:\n",
        "  sys.path.append(\"big_vision_repo\")\n",
        "\n",
        "# Install missing dependencies. Assume jax~=0.4.25 with GPU available.\n",
        "!pip3 install -q \"overrides\" \"ml_collections\" \"einops~=0.7\" \"sentencepiece\"\n"
      ]
    },
    {
      "cell_type": "markdown",
      "metadata": {
        "id": "azmRZvgGyhAb"
      },
      "source": [
        "### Configure your API key to access Kaggle\n",
        "\n",
        "To use PaliGemma, you must provide your Kaggle username and a Kaggle API key.\n",
        "\n",
        "1. To generate a Kaggle API key, go to the **Account** tab of your Kaggle user profile and select **Create New Token**. This will trigger the download of a `kaggle.json` file containing your API credentials.\n",
        "1. In Colab, select **Secrets** (🔑) in the left pane and add your Kaggle username and Kaggle API key. Store your username under the name `KAGGLE_USERNAME` and your API key under the name `KAGGLE_KEY`.\n",
        "\n",
        "To be able to download, you will also need to acknowledge the Terms and Conditions of the PaliGemma on:\n",
        "\n",
        "* https://www.kaggle.com/models/google/paligemma/\n",
        "\n"
      ]
    },
    {
      "cell_type": "code",
      "execution_count": 4,
      "metadata": {
        "id": "zGLIp1Cx3_CX"
      },
      "outputs": [],
      "source": [
        "import os\n",
        "from google.colab import userdata\n",
        "\n",
        "# Note: `userdata.get` is a Colab API. If you're not using Colab, set the env\n",
        "# vars as appropriate or make your credentials available in ~/.kaggle/kaggle.json\n",
        "\n",
        "os.environ[\"KAGGLE_USERNAME\"] = userdata.get('KAGGLE_USERNAME')\n",
        "os.environ[\"KAGGLE_KEY\"] = userdata.get('KAGGLE_KEY')\n",
        "\n",
        "# The T4 runtime is tight on memory to finetune this model. Preallocate\n",
        "# all memory ahead of time to avoid OOM'ing due to fragmentation.\n",
        "os.environ[\"XLA_PYTHON_CLIENT_MEM_FRACTION\"] = \"1.0\""
      ]
    },
    {
      "cell_type": "code",
      "execution_count": 5,
      "metadata": {
        "id": "gQNOTfF24AV4"
      },
      "outputs": [],
      "source": [
        "# @title Download checkpoint, tokenizer and dataset to local filesystem.\n",
        "#\n",
        "import os\n",
        "import kagglehub\n",
        "\n",
        "# Use these for PaliGemma-2 3B 224px²\n",
        "LLM_VARIANT = \"gemma2_2b\"\n",
        "MODEL_PATH = \"/content/drive/MyDrive/paligemma_assets/paligemma2-3b-pt-224.b16.npz\"\n",
        "KAGGLE_HANDLE = \"google/paligemma-2/jax/paligemma2-3b-pt-224\"  # Path to fetch from Kaggle.\n",
        "\n",
        "# Use these for PaliGemma 1:\n",
        "# LLM_VARIANT = \"gemma_2b\"\n",
        "# MODEL_PATH = \"./paligemma-3b-pt-224.f16.npz\"\n",
        "# KAGGLE_HANDLE = \"google/paligemma/jax/paligemma-3b-pt-224\"\n",
        "\n",
        "if not os.path.exists(MODEL_PATH):\n",
        "  print(\"Downloading the checkpoint from Kaggle, this could take a few minutes....\")\n",
        "  MODEL_PATH = kagglehub.model_download(KAGGLE_HANDLE, MODEL_PATH)\n",
        "  print(f\"Model path: {MODEL_PATH}\")\n",
        "\n",
        "TOKENIZER_PATH = \"/content/drive/MyDrive/paligemma_assets/paligemma_tokenizer.model\"\n",
        "if not os.path.exists(TOKENIZER_PATH):\n",
        "  print(\"Downloading the model tokenizer...\")\n",
        "  !gsutil cp gs://big_vision/paligemma_tokenizer.model {TOKENIZER_PATH}\n",
        "  print(f\"Tokenizer path: {TOKENIZER_PATH}\")\n",
        "\n",
        "# DATA_DIR=\"./longcap100\"\n",
        "# if not os.path.exists(DATA_DIR):\n",
        "#   print(\"Downloading the dataset...\")\n",
        "#   !gsutil -m -q cp -n -r gs://longcap100/ .\n",
        "#   print(f\"Data path: {DATA_DIR}\")"
      ]
    },
    {
      "cell_type": "markdown",
      "metadata": {
        "id": "zDoq0O77GF30"
      },
      "source": [
        "## Notebook"
      ]
    },
    {
      "cell_type": "code",
      "execution_count": 6,
      "metadata": {
        "colab": {
          "base_uri": "https://localhost:8080/"
        },
        "id": "dTfe2k8J4Bw0",
        "outputId": "26a8fa06-1faa-44ab-ce46-0c41f0b28a56"
      },
      "outputs": [
        {
          "output_type": "stream",
          "name": "stdout",
          "text": [
            "JAX version:  0.5.3\n",
            "JAX platform: gpu\n",
            "JAX devices:  1\n"
          ]
        }
      ],
      "source": [
        "import base64\n",
        "import functools\n",
        "import html\n",
        "import io\n",
        "import os\n",
        "import warnings\n",
        "\n",
        "import jax\n",
        "import jax.numpy as jnp\n",
        "import numpy as np\n",
        "import ml_collections\n",
        "\n",
        "import tensorflow as tf\n",
        "import sentencepiece\n",
        "\n",
        "from IPython.core.display import display, HTML\n",
        "from PIL import Image\n",
        "\n",
        "# Import model definition from big_vision\n",
        "from big_vision.models.proj.paligemma import paligemma\n",
        "from big_vision.trainers.proj.paligemma import predict_fns\n",
        "\n",
        "# Import big vision utilities\n",
        "import big_vision.datasets.jsonl\n",
        "import big_vision.utils\n",
        "import big_vision.sharding\n",
        "\n",
        "# Don't let TF use the GPU or TPUs\n",
        "tf.config.set_visible_devices([], \"GPU\")\n",
        "tf.config.set_visible_devices([], \"TPU\")\n",
        "\n",
        "backend = jax.extend.backend.get_backend()\n",
        "print(f\"JAX version:  {jax.__version__}\")\n",
        "print(f\"JAX platform: {backend.platform}\")\n",
        "print(f\"JAX devices:  {jax.device_count()}\")"
      ]
    },
    {
      "cell_type": "code",
      "execution_count": 7,
      "metadata": {
        "id": "1aghcULcEdtv"
      },
      "outputs": [],
      "source": [
        "# @title Construct model and load params into RAM.\n",
        "\n",
        "# Define model\n",
        "# IMPORTANT: Gemma-2 has a \"final_logits_softcap\" property, we set it to 0.0\n",
        "# for better transfer results.\n",
        "model_config = ml_collections.FrozenConfigDict({\n",
        "    \"llm\": {\"vocab_size\": 257_152, \"variant\": LLM_VARIANT, \"final_logits_softcap\": 0.0},\n",
        "    \"img\": {\"variant\": \"So400m/14\", \"pool_type\": \"none\", \"scan\": True, \"dtype_mm\": \"float16\"}\n",
        "})\n",
        "model = paligemma.Model(**model_config)\n",
        "tokenizer = sentencepiece.SentencePieceProcessor(TOKENIZER_PATH)\n",
        "\n",
        "# Load params - this can take up to 1 minute in T4 colabs.\n",
        "params = paligemma.load(None, MODEL_PATH, model_config)\n",
        "\n",
        "# Define `decode` function to sample outputs from the model.\n",
        "decode_fn = predict_fns.get_all(model)['decode']\n",
        "decode = functools.partial(decode_fn, devices=jax.devices(), eos_token=tokenizer.eos_id())"
      ]
    },
    {
      "cell_type": "code",
      "execution_count": 8,
      "metadata": {
        "id": "RWOdf_fw2SAO"
      },
      "outputs": [],
      "source": [
        "# @title Move params to GPU/TPU memory.\n",
        "#\n",
        "# To keep HBM usage low and fit in a T4 GPU (16GB HBM) we opt to only finetune\n",
        "# a part of the parameters. Additionally we keep the frozen params in float16\n",
        "# and cast trainable to float32.\n",
        "\n",
        "# Create a pytree mask of the trainable params.\n",
        "def is_trainable_param(name, param):  # pylint: disable=unused-argument\n",
        "  if name.startswith(\"llm/layers/attn/\"):  return True\n",
        "  if name.startswith(\"llm/\"):              return False\n",
        "  if name.startswith(\"img/\"):              return False\n",
        "  raise ValueError(f\"Unexpected param name {name}\")\n",
        "trainable_mask = big_vision.utils.tree_map_with_names(is_trainable_param, params)\n",
        "\n",
        "#\n",
        "# If more than one device is available (e.g. multiple GPUs) the parameters can\n",
        "# be sharded across them to reduce HBM usage per device.\n",
        "mesh = jax.sharding.Mesh(jax.devices(), (\"data\"))\n",
        "\n",
        "data_sharding = jax.sharding.NamedSharding(\n",
        "    mesh, jax.sharding.PartitionSpec(\"data\"))\n",
        "\n",
        "params_sharding = big_vision.sharding.infer_sharding(\n",
        "    params, strategy=[('.*', 'fsdp(axis=\"data\")')], mesh=mesh)\n",
        "\n",
        "# Yes: Some donated buffers are not usable.\n",
        "warnings.filterwarnings(\n",
        "    \"ignore\", message=\"Some donated buffers were not usable\")\n",
        "\n",
        "@functools.partial(jax.jit, donate_argnums=(0,), static_argnums=(1,))\n",
        "def maybe_cast_to_f32(params, trainable):\n",
        "  # Cast others to float16, since some GPUs don't support bf16.\n",
        "  return jax.tree.map(lambda p, m: p.astype(jnp.float32)\n",
        "                      if m else p.astype(jnp.float16),\n",
        "                      params, trainable)"
      ]
    },
    {
      "cell_type": "code",
      "source": [
        "# Loading all params in simultaneous - albeit much faster and more succinct -\n",
        "# requires more RAM than the T4 colab runtimes have by default (12GB RAM).\n",
        "# Instead we do it param by param.\n",
        "params, treedef = jax.tree.flatten(params)\n",
        "sharding_leaves = jax.tree.leaves(params_sharding)\n",
        "trainable_leaves = jax.tree.leaves(trainable_mask)\n",
        "for idx, (sharding, trainable) in enumerate(zip(sharding_leaves, trainable_leaves)):\n",
        "  params[idx] = big_vision.utils.reshard(params[idx], sharding)\n",
        "  params[idx] = maybe_cast_to_f32(params[idx], trainable)\n",
        "  params[idx].block_until_ready()\n",
        "params = jax.tree.unflatten(treedef, params)\n",
        "\n",
        "# Print params to show what the model is made of.\n",
        "def parameter_overview(params):\n",
        "  for path, arr in big_vision.utils.tree_flatten_with_names(params)[0]:\n",
        "    print(f\"{path:80s} {str(arr.shape):22s} {arr.dtype}\")\n",
        "\n",
        "print(\" == Model params == \")\n",
        "parameter_overview(params)"
      ],
      "metadata": {
        "id": "ipJehqguO3T9",
        "outputId": "d4bfd645-524a-45c1-b3d9-ccd582d61df6",
        "colab": {
          "base_uri": "https://localhost:8080/"
        }
      },
      "execution_count": 9,
      "outputs": [
        {
          "output_type": "stream",
          "name": "stdout",
          "text": [
            " == Model params == \n",
            "img/Transformer/encoder_norm/bias                                                (1152,)                float16\n",
            "img/Transformer/encoder_norm/scale                                               (1152,)                float16\n",
            "img/Transformer/encoderblock/LayerNorm_0/bias                                    (27, 1152)             float16\n",
            "img/Transformer/encoderblock/LayerNorm_0/scale                                   (27, 1152)             float16\n",
            "img/Transformer/encoderblock/LayerNorm_1/bias                                    (27, 1152)             float16\n",
            "img/Transformer/encoderblock/LayerNorm_1/scale                                   (27, 1152)             float16\n",
            "img/Transformer/encoderblock/MlpBlock_0/Dense_0/bias                             (27, 4304)             float16\n",
            "img/Transformer/encoderblock/MlpBlock_0/Dense_0/kernel                           (27, 1152, 4304)       float16\n",
            "img/Transformer/encoderblock/MlpBlock_0/Dense_1/bias                             (27, 1152)             float16\n",
            "img/Transformer/encoderblock/MlpBlock_0/Dense_1/kernel                           (27, 4304, 1152)       float16\n",
            "img/Transformer/encoderblock/MultiHeadDotProductAttention_0/key/bias             (27, 16, 72)           float16\n",
            "img/Transformer/encoderblock/MultiHeadDotProductAttention_0/key/kernel           (27, 1152, 16, 72)     float16\n",
            "img/Transformer/encoderblock/MultiHeadDotProductAttention_0/out/bias             (27, 1152)             float16\n",
            "img/Transformer/encoderblock/MultiHeadDotProductAttention_0/out/kernel           (27, 16, 72, 1152)     float16\n",
            "img/Transformer/encoderblock/MultiHeadDotProductAttention_0/query/bias           (27, 16, 72)           float16\n",
            "img/Transformer/encoderblock/MultiHeadDotProductAttention_0/query/kernel         (27, 1152, 16, 72)     float16\n",
            "img/Transformer/encoderblock/MultiHeadDotProductAttention_0/value/bias           (27, 16, 72)           float16\n",
            "img/Transformer/encoderblock/MultiHeadDotProductAttention_0/value/kernel         (27, 1152, 16, 72)     float16\n",
            "img/embedding/bias                                                               (1152,)                float16\n",
            "img/embedding/kernel                                                             (14, 14, 3, 1152)      float16\n",
            "img/head/bias                                                                    (2304,)                float16\n",
            "img/head/kernel                                                                  (1152, 2304)           float16\n",
            "img/pos_embedding                                                                (1, 256, 1152)         float16\n",
            "llm/embedder/input_embedding                                                     (257152, 2304)         float16\n",
            "llm/final_norm/scale                                                             (2304,)                float16\n",
            "llm/layers/attn/attn_vec_einsum/w                                                (26, 8, 256, 2304)     float32\n",
            "llm/layers/attn/kv_einsum/w                                                      (26, 2, 4, 2304, 256)  float32\n",
            "llm/layers/attn/q_einsum/w                                                       (26, 8, 2304, 256)     float32\n",
            "llm/layers/mlp/gating_einsum                                                     (26, 2, 2304, 9216)    float16\n",
            "llm/layers/mlp/linear                                                            (26, 9216, 2304)       float16\n",
            "llm/layers/post_attention_norm/scale                                             (26, 2304)             float16\n",
            "llm/layers/post_ffw_norm/scale                                                   (26, 2304)             float16\n",
            "llm/layers/pre_attention_norm/scale                                              (26, 2304)             float16\n",
            "llm/layers/pre_ffw_norm/scale                                                    (26, 2304)             float16\n"
          ]
        }
      ]
    },
    {
      "cell_type": "code",
      "source": [
        "def preprocess_image(image, size=224):\n",
        "  # Model has been trained to handle images of different aspects ratios\n",
        "  # resized to 224x224 in the range [-1, 1]. Bilinear and antialias resize\n",
        "  # options are helpful to improve quality in some tasks.\n",
        "  image = np.asarray(image)\n",
        "  if image.ndim == 2:  # Convert image without last channel into greyscale.\n",
        "    image = np.stack((image,)*3, axis=-1)\n",
        "  image = image[..., :3]  # Remove alpha layer.\n",
        "  assert image.shape[-1] == 3\n",
        "\n",
        "  image = tf.constant(image)\n",
        "  image = tf.image.resize(image, (size, size), method='bilinear', antialias=True)\n",
        "  return image.numpy() / 127.5 - 1.0  # [0, 255]->[-1,1]\n",
        "\n",
        "def preprocess_tokens(prefix, suffix=None, seqlen=None):\n",
        "  # Model has been trained to handle tokenized text composed of a prefix with\n",
        "  # full attention and a suffix with causal attention.\n",
        "  separator = \"\\n\"\n",
        "  tokens = tokenizer.encode(prefix, add_bos=True) + tokenizer.encode(separator)\n",
        "  mask_ar = [0] * len(tokens)    # 0 to use full attention for prefix.\n",
        "  mask_loss = [0] * len(tokens)  # 0 to not use prefix tokens in the loss.\n",
        "\n",
        "  if suffix:\n",
        "    suffix = tokenizer.encode(suffix, add_eos=True)\n",
        "    tokens += suffix\n",
        "    mask_ar += [1] * len(suffix)    # 1 to use causal attention for suffix.\n",
        "    mask_loss += [1] * len(suffix)  # 1 to use suffix tokens in the loss.\n",
        "\n",
        "  mask_input = [1] * len(tokens)    # 1 if it's a token, 0 if padding.\n",
        "  if seqlen:\n",
        "    padding = [0] * max(0, seqlen - len(tokens))\n",
        "    tokens = tokens[:seqlen] + padding\n",
        "    mask_ar = mask_ar[:seqlen] + padding\n",
        "    mask_loss = mask_loss[:seqlen] + padding\n",
        "    mask_input = mask_input[:seqlen] + padding\n",
        "\n",
        "  return jax.tree.map(np.array, (tokens, mask_ar, mask_loss, mask_input))\n",
        "\n",
        "def postprocess_tokens(tokens):\n",
        "  tokens = tokens.tolist()  # np.array to list[int]\n",
        "  try:  # Remove tokens at and after EOS if any.\n",
        "    eos_pos = tokens.index(tokenizer.eos_id())\n",
        "    tokens = tokens[:eos_pos]\n",
        "  except ValueError:\n",
        "    pass\n",
        "  return tokenizer.decode(tokens)\n"
      ],
      "metadata": {
        "id": "LHv3k3qIyL1x"
      },
      "execution_count": 35,
      "outputs": []
    },
    {
      "cell_type": "code",
      "source": [
        "# ==============================================================================\n",
        "# SECTION 1: IMPORTS AND CONSTANTS FOR DATA PREP\n",
        "# ==============================================================================\n",
        "import os\n",
        "import glob\n",
        "import random\n",
        "import re\n",
        "import itertools\n",
        "from PIL import Image\n",
        "from tqdm.notebook import tqdm\n",
        "\n",
        "# Constants for our specific dataset and task\n",
        "PROMPT_PREFIX = \"detect grasp\"\n",
        "ORIGINAL_IMG_WIDTH = 640\n",
        "ORIGINAL_IMG_HEIGHT = 480\n",
        "SEQLEN = 64\n",
        "\n",
        "# ==============================================================================\n",
        "# SECTION 2: DATASET CREATION LOGIC\n",
        "# ==============================================================================\n",
        "\n",
        "def create_cornell_dataset(root_path):\n",
        "    \"\"\"\n",
        "    Creates the full list of training examples from the Cornell Grasp dataset\n",
        "    using the official PaliGemma detection format.\n",
        "    \"\"\"\n",
        "    print(f\"Searching for annotation files in: {root_path}\")\n",
        "    annotation_files = glob.glob(os.path.join(root_path, '**', '*cpos.txt'), recursive=True)\n",
        "\n",
        "    data_examples = []\n",
        "    skipped_files = 0\n",
        "\n",
        "    print(\"Processing annotation files...\")\n",
        "    for txt_file in tqdm(annotation_files, desc=\"Processing files\"):\n",
        "        image_path = txt_file.replace('cpos.txt', 'r.png')\n",
        "        if os.path.exists(image_path):\n",
        "            try:\n",
        "                with open(txt_file, 'r') as f:\n",
        "                    lines = f.read().strip().split('\\n')\n",
        "\n",
        "                for i in range(0, len(lines), 4):\n",
        "                    if i + 3 < len(lines):\n",
        "                        coords = [lines[i+j].split() for j in range(4)]\n",
        "                        x_coords = [float(p[0]) for p in coords]\n",
        "                        y_coords = [float(p[1]) for p in coords]\n",
        "\n",
        "                        xmin, ymin = min(x_coords), min(y_coords)\n",
        "                        xmax, ymax = max(x_coords), max(y_coords)\n",
        "\n",
        "                        loc_ymin = f\"<loc{int((ymin / ORIGINAL_IMG_HEIGHT) * 1024)}>\"\n",
        "                        loc_xmin = f\"<loc{int((xmin / ORIGINAL_IMG_WIDTH) * 1024)}>\"\n",
        "                        loc_ymax = f\"<loc{int((ymax / ORIGINAL_IMG_HEIGHT) * 1024)}>\"\n",
        "                        loc_xmax = f\"<loc{int((xmax / ORIGINAL_IMG_WIDTH) * 1024)}>\"\n",
        "\n",
        "                        suffix = f\"{loc_ymin}{loc_xmin}{loc_ymax}{loc_xmax} grasp\"\n",
        "                        data_examples.append({'image_path': image_path, 'suffix': suffix})\n",
        "            except Exception:\n",
        "                skipped_files += 1\n",
        "                continue\n",
        "\n",
        "    if skipped_files > 0:\n",
        "        print(f\"  [!] Total skipped files due to errors: {skipped_files}\")\n",
        "\n",
        "    return data_examples\n",
        "\n",
        "# ==============================================================================\n",
        "# SECTION 3: FINAL DATA ITERATOR DEFINITIONS\n",
        "# ==============================================================================\n",
        "\n",
        "# 1. Create the full list of examples from our custom dataset\n",
        "local_dataset_path = '/content/Cornell_Grasp_Kaggle' # Assumes data was copied locally\n",
        "all_examples = create_cornell_dataset(local_dataset_path)\n",
        "random.shuffle(all_examples)\n",
        "\n",
        "# 2. Split into training and validation sets\n",
        "split_ratio = 0.9\n",
        "split_idx = int(len(all_examples) * split_ratio)\n",
        "train_examples = all_examples[:split_idx]\n",
        "val_examples = all_examples[split_idx:]\n",
        "print(f\"\\nDataset created: {len(train_examples)} training examples, {len(val_examples)} validation examples.\")\n",
        "\n",
        "# 3. Define the iterator functions with the required names\n",
        "def train_data_iterator():\n",
        "    \"\"\"Never-ending iterator over our custom training examples.\"\"\"\n",
        "    for example in itertools.cycle(train_examples):\n",
        "        image = Image.open(example[\"image_path\"])\n",
        "        image = preprocess_image(image)\n",
        "        tokens, mask_ar, mask_loss, _ = preprocess_tokens(\n",
        "            prefix=PROMPT_PREFIX, suffix=example[\"suffix\"], seqlen=SEQLEN)\n",
        "        yield {\"image\": image, \"text\": tokens, \"mask_ar\": mask_ar, \"mask_loss\": mask_loss}\n",
        "\n",
        "def validation_data_iterator():\n",
        "    \"\"\"Single iterator over validation examples, using tf.data for full compatibility.\"\"\"\n",
        "\n",
        "    # A generator function is needed for tf.data.Dataset\n",
        "    def validation_generator():\n",
        "        for example in val_examples:\n",
        "            image = Image.open(example[\"image_path\"])\n",
        "            image_processed = preprocess_image(image)\n",
        "\n",
        "            tokens, mask_ar, _, mask_input = preprocess_tokens(\n",
        "                prefix=PROMPT_PREFIX, seqlen=SEQLEN) # Using your desired SEQLEN\n",
        "\n",
        "            yield {\n",
        "                \"image\": image_processed,\n",
        "                \"text\": tokens,\n",
        "                \"mask_ar\": mask_ar,\n",
        "                \"mask_input\": mask_input\n",
        "            }\n",
        "\n",
        "    # Define the exact shape and type of each element the generator yields\n",
        "    output_signature = {\n",
        "        \"image\": tf.TensorSpec(shape=(IMAGE_SIZE, IMAGE_SIZE, 3), dtype=tf.float32),\n",
        "        \"text\": tf.TensorSpec(shape=(SEQLEN,), dtype=tf.int32),\n",
        "        \"mask_ar\": tf.TensorSpec(shape=(SEQLEN,), dtype=tf.int32),\n",
        "        \"mask_input\": tf.TensorSpec(shape=(SEQLEN,), dtype=tf.int32),\n",
        "    }\n",
        "\n",
        "    # Create the tf.data.Dataset from our generator\n",
        "    val_tf_dataset = tf.data.Dataset.from_generator(\n",
        "        validation_generator,\n",
        "        output_signature=output_signature\n",
        "    )\n",
        "\n",
        "    # Yield from the dataset's numpy iterator, just like the original notebook\n",
        "    for example in val_tf_dataset.as_numpy_iterator():\n",
        "        yield example"
      ],
      "metadata": {
        "id": "Cw5RiISAqzTF",
        "outputId": "312b1247-da8b-4c21-8ff1-876c7fe943e1",
        "colab": {
          "base_uri": "https://localhost:8080/",
          "height": 136,
          "referenced_widgets": [
            "5afedd8a83104fdf915b4896bd3918ec",
            "d25fd145b2cd43f2a592180232df4211",
            "10472b9b17404227a2657245556cb07e",
            "8b5483ff7bb1466ea02471da663aec18",
            "770100dd26784e85b72a594123f6b22b",
            "518383af99ab4777961219a182262371",
            "56908a53a296471b9f7686b7298ee31e",
            "ef3d92af96e24cb2ad4e1ba438d55731",
            "2f5327326a0a4322a783dc11205dcfbb",
            "0c5f0eddc0aa403f8a92c4ebb4351b77",
            "c934007e1e3140679a92c19b4f477c63"
          ]
        }
      },
      "execution_count": 36,
      "outputs": [
        {
          "output_type": "stream",
          "name": "stdout",
          "text": [
            "Searching for annotation files in: /content/Cornell_Grasp_Kaggle\n",
            "Processing annotation files...\n"
          ]
        },
        {
          "output_type": "display_data",
          "data": {
            "text/plain": [
              "Processing files:   0%|          | 0/885 [00:00<?, ?it/s]"
            ],
            "application/vnd.jupyter.widget-view+json": {
              "version_major": 2,
              "version_minor": 0,
              "model_id": "5afedd8a83104fdf915b4896bd3918ec"
            }
          },
          "metadata": {}
        },
        {
          "output_type": "stream",
          "name": "stdout",
          "text": [
            "  [!] Total skipped files due to errors: 1\n",
            "\n",
            "Dataset created: 4599 training examples, 511 validation examples.\n"
          ]
        }
      ]
    },
    {
      "cell_type": "code",
      "source": [
        "import base64\n",
        "import html\n",
        "import io\n",
        "import re\n",
        "import numpy as np\n",
        "from PIL import Image, ImageDraw\n",
        "from IPython.display import display, HTML\n",
        "\n",
        "# --- Function to decode the model's token output into pixel coordinates ---\n",
        "def decode_bbox_from_output(output_string):\n",
        "    \"\"\"Parses a model's output string to extract bounding box coordinates.\"\"\"\n",
        "    loc_values = re.findall(r'<loc(\\d+)>', output_string)\n",
        "    if len(loc_values) < 4:\n",
        "        return None\n",
        "    try:\n",
        "        vals = [int(v) for v in loc_values]\n",
        "        ymin = (vals[0] / 1024) * ORIGINAL_IMG_HEIGHT\n",
        "        xmin = (vals[1] / 1024) * ORIGINAL_IMG_WIDTH\n",
        "        ymax = (vals[2] / 1024) * ORIGINAL_IMG_HEIGHT\n",
        "        xmax = (vals[3] / 1024) * ORIGINAL_IMG_WIDTH\n",
        "        # Return as [xmin, ymin, xmax, ymax] for PIL's rectangle function\n",
        "        return [int(xmin), int(ymin), int(xmax), int(ymax)]\n",
        "    except (ValueError, IndexError):\n",
        "        return None\n",
        "\n",
        "# --- Helper function from the original notebook to display images ---\n",
        "def render_inline(image, resize=(256, 256)):\n",
        "    \"\"\"Convert PIL image into inline HTML.\"\"\"\n",
        "    image.resize(resize)\n",
        "    with io.BytesIO() as buffer:\n",
        "        image.save(buffer, format='jpeg')\n",
        "        image_b64 = str(base64.b64encode(buffer.getvalue()), \"utf-8\")\n",
        "    return f\"data:image/jpeg;base64,{image_b64}\"\n",
        "\n",
        "def render_detection_example(image_array, model_output):\n",
        "    \"\"\"\n",
        "    Renders an image with its predicted bounding box, now with correct coordinate scaling.\n",
        "    \"\"\"\n",
        "    # Convert from [-1, 1] numpy array to a [0, 255] PIL Image\n",
        "    # The size of this image will be 224x224 pixels.\n",
        "    image_array = ((image_array + 1) / 2 * 255).astype(np.uint8)\n",
        "    image = Image.fromarray(image_array)\n",
        "    draw = ImageDraw.Draw(image)\n",
        "\n",
        "    # Decode coordinates, which are relative to the ORIGINAL 640x480 size\n",
        "    bbox_coords_orig = decode_bbox_from_output(model_output)\n",
        "\n",
        "    if bbox_coords_orig:\n",
        "        # --- THE FIX IS HERE ---\n",
        "        # We must rescale the coordinates from the original 640x480 space\n",
        "        # to the 224x224 space of the image we are drawing on.\n",
        "        xmin_orig, ymin_orig, xmax_orig, ymax_orig = bbox_coords_orig\n",
        "\n",
        "        display_width, display_height = image.size # This will be (224, 224)\n",
        "\n",
        "        xmin_new = int(xmin_orig * (display_width / ORIGINAL_IMG_WIDTH))\n",
        "        ymin_new = int(ymin_orig * (display_height / ORIGINAL_IMG_HEIGHT))\n",
        "        xmax_new = int(xmax_orig * (display_width / ORIGINAL_IMG_WIDTH))\n",
        "        ymax_new = int(ymax_orig * (display_height / ORIGINAL_IMG_HEIGHT))\n",
        "\n",
        "        rescaled_coords = [xmin_new, ymin_new, xmax_new, ymax_new]\n",
        "\n",
        "        # Draw the correctly RESCALED bounding box\n",
        "        draw.rectangle(rescaled_coords, outline='red', width=2)\n",
        "\n",
        "    # Create the HTML display block\n",
        "    return (f'<div style=\"display: inline-flex; flex-direction: column; margin: 10px;\">'\n",
        "            f'<img style=\"width:256px; height: 256px;\" src=\"{render_inline(image)}\" />'\n",
        "            f'<p style=\"width: 256px; margin-top: 5px; font-family: monospace; text-align: center;\">{html.escape(model_output)}</p>'\n",
        "            f'</div>')"
      ],
      "metadata": {
        "id": "T22H8cpCrXbj"
      },
      "execution_count": 43,
      "outputs": []
    },
    {
      "cell_type": "code",
      "source": [
        "# The main update_fn using a simple stochastic gradient descent (SGD).\n",
        "@functools.partial(jax.jit, donate_argnums=(0,))\n",
        "def update_fn(params, batch, learning_rate):\n",
        "  imgs, txts, mask_ar = batch[\"image\"], batch[\"text\"], batch[\"mask_ar\"]\n",
        "\n",
        "  def loss_fn(params):\n",
        "    text_logits, _ = model.apply({\"params\": params}, imgs, txts[:, :-1], mask_ar[:, :-1], train=True)\n",
        "    logp = jax.nn.log_softmax(text_logits, axis=-1)\n",
        "\n",
        "    # The model takes as input txts[:, :-1] but the loss is defined as predicting\n",
        "    # next tokens txts[:, 1:]. Additionally, mask_loss[:, 1:] indicates which tokens\n",
        "    # are part of the loss (e.g. prefix and padded tokens are not included).\n",
        "    mask_loss = batch[\"mask_loss\"][:, 1:]\n",
        "    targets = jax.nn.one_hot(txts[:, 1:], text_logits.shape[-1])\n",
        "\n",
        "    # Compute the loss per example. i.e. the mean of per token pplx.\n",
        "    # Since each example has a different number of tokens, normalize it.\n",
        "    token_pplx = jnp.sum(logp * targets, axis=-1)  # sum across vocab_size.\n",
        "    example_loss = -jnp.sum(token_pplx * mask_loss, axis=-1)  # sum across seq_len.\n",
        "    example_loss /= jnp.clip(jnp.sum(mask_loss, -1), 1)  # weight by num of tokens.\n",
        "\n",
        "    # batch_loss: mean of per example loss.\n",
        "    return jnp.mean(example_loss)\n",
        "\n",
        "  loss, grads = jax.value_and_grad(loss_fn)(params)\n",
        "\n",
        "  # Apply gradients to trainable params using SGD.\n",
        "  def apply_grad(param, gradient, trainable):\n",
        "    if not trainable: return param\n",
        "    return param - learning_rate * gradient\n",
        "\n",
        "  params = jax.tree_util.tree_map(apply_grad, params, grads, trainable_mask)\n",
        "\n",
        "  return params, loss\n",
        "\n",
        "# Evaluation/inference loop.\n",
        "def make_predictions(data_iterator, *, num_examples=None,\n",
        "                     batch_size=4, seqlen=SEQLEN, sampler=\"greedy\"):\n",
        "  outputs = []\n",
        "  while True:\n",
        "    # Construct a list of examples in the batch.\n",
        "    examples = []\n",
        "    try:\n",
        "      for _ in range(batch_size):\n",
        "        examples.append(next(data_iterator))\n",
        "        examples[-1][\"_mask\"] = np.array(True)  # Indicates true example.\n",
        "    except StopIteration:\n",
        "      if len(examples) == 0:\n",
        "        return outputs\n",
        "\n",
        "    # Not enough examples to complete a batch. Pad by repeating last example.\n",
        "    while len(examples) % batch_size:\n",
        "      examples.append(dict(examples[-1]))\n",
        "      examples[-1][\"_mask\"] = np.array(False)  # Indicates padding example.\n",
        "\n",
        "    # Convert list of examples into a dict of np.arrays and load onto devices.\n",
        "    batch = jax.tree.map(lambda *x: np.stack(x), *examples)\n",
        "    batch = big_vision.utils.reshard(batch, data_sharding)\n",
        "\n",
        "    # Make model predictions\n",
        "    tokens = decode({\"params\": params}, batch=batch,\n",
        "                    max_decode_len=seqlen, sampler=sampler)\n",
        "\n",
        "    # Fetch model predictions to device and detokenize.\n",
        "    tokens, mask = jax.device_get((tokens, batch[\"_mask\"]))\n",
        "    tokens = tokens[mask]  # remove padding examples.\n",
        "    responses = [postprocess_tokens(t) for t in tokens]\n",
        "\n",
        "    # Append to html output.\n",
        "    for example, response in zip(examples, responses):\n",
        "      outputs.append((example[\"image\"], response))\n",
        "      if num_examples and len(outputs) >= num_examples:\n",
        "        return outputs"
      ],
      "metadata": {
        "id": "-ABgoki_rHUI"
      },
      "execution_count": 44,
      "outputs": []
    },
    {
      "cell_type": "code",
      "source": [
        "# ==============================================================================\n",
        "# FINAL CORRECTED TRAINING LOOP\n",
        "# ==============================================================================\n",
        "\n",
        "# --- 1. Define Training Parameters ---\n",
        "BATCH_SIZE = 8\n",
        "TRAIN_EXAMPLES = 4599 # Using the full training set for one epoch\n",
        "LEARNING_RATE = 0.03\n",
        "TRAIN_STEPS = TRAIN_EXAMPLES // BATCH_SIZE\n",
        "EVAL_STEPS = TRAIN_STEPS // 5\n",
        "\n",
        "# --- 2. Create Learning Rate Schedule and Training Iterator ---\n",
        "train_data_it = train_data_iterator()\n",
        "sched_fn = big_vision.utils.create_learning_rate_schedule(\n",
        "    total_steps=TRAIN_STEPS + 1, base=LEARNING_RATE,\n",
        "    decay_type=\"cosine\", warmup_percent=0.10)\n",
        "\n",
        "# --- 3. Run the Training and Evaluation Loop ---\n",
        "print(f\"Starting training for {TRAIN_STEPS} steps...\")\n",
        "start_time = time.time()\n",
        "for step in range(1, TRAIN_STEPS + 1):\n",
        "    # --- Training Step ---\n",
        "    examples = [next(train_data_it) for _ in range(BATCH_SIZE)]\n",
        "\n",
        "    # ==========================================================================\n",
        "    # THE FIX IS HERE: Replaced jax.tree.map with a more explicit batching method.\n",
        "    # This manually stacks the values for each key into a NumPy array.\n",
        "    # ==========================================================================\n",
        "    keys = examples[0].keys()\n",
        "    batch = {k: np.stack([ex[k] for ex in examples]) for k in keys}\n",
        "\n",
        "    batch = big_vision.utils.reshard(batch, data_sharding)\n",
        "\n",
        "    learning_rate = sched_fn(step)\n",
        "    params, loss = update_fn(params, batch, learning_rate)\n",
        "    loss = jax.device_get(loss)\n",
        "    print(f\"step: {step:3d}/{TRAIN_STEPS:3d} | lr: {learning_rate:.5f} | loss: {loss:.4f}\")\n",
        "\n",
        "    # --- Intermittent Evaluation and Rendering Step ---\n",
        "    if step == 1 or (step % 20) == 0:\n",
        "        print(f\"\\n--- Running evaluation at step {step} ---\")\n",
        "        html_output = \"\"\n",
        "        validation_it = validation_data_iterator()\n",
        "\n",
        "        predictions = make_predictions(validation_it, num_examples=4, batch_size=4)\n",
        "\n",
        "        for image_array, model_response in predictions:\n",
        "            html_output += render_detection_example(image_array, model_response)\n",
        "\n",
        "        display(HTML(html_output))\n",
        "        print(\"--- Evaluation complete ---\\n\")\n",
        "\n",
        "end_time = time.time()\n",
        "print(f\"\\nTraining finished in {end_time - start_time:.2f} seconds.\")"
      ],
      "metadata": {
        "id": "n4yUp63UrH_f",
        "outputId": "12a0d86f-26ae-4f55-87e5-7af8fdeef935",
        "colab": {
          "base_uri": "https://localhost:8080/",
          "height": 1000
        }
      },
      "execution_count": null,
      "outputs": [
        {
          "output_type": "stream",
          "name": "stdout",
          "text": [
            "Starting training for 574 steps...\n",
            "step:   1/574 | lr: 0.00052 | loss: 0.9050\n",
            "\n",
            "--- Running evaluation at step 1 ---\n"
          ]
        },
        {
          "output_type": "display_data",
          "data": {
            "text/plain": [
              "<IPython.core.display.HTML object>"
            ],
            "text/html": [
              "<div style=\"display: inline-flex; flex-direction: column; margin: 10px;\"><img style=\"width:256px; height: 256px;\" src=\"data:image/jpeg;base64,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\" /><p style=\"width: 256px; margin-top: 5px; font-family: monospace; text-align: center;\">&lt;loc500&gt;&lt;loc450&gt;&lt;loc600&gt;&lt;loc520&gt; grasp</p></div><div style=\"display: inline-flex; flex-direction: column; margin: 10px;\"><img style=\"width:256px; height: 256px;\" src=\"data:image/jpeg;base64,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\" /><p style=\"width: 256px; margin-top: 5px; font-family: monospace; text-align: center;\">&lt;loc500&gt;&lt;loc480&gt;&lt;loc600&gt;&lt;loc520&gt; grasp</p></div><div style=\"display: inline-flex; flex-direction: column; margin: 10px;\"><img style=\"width:256px; height: 256px;\" src=\"data:image/jpeg;base64,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\" /><p style=\"width: 256px; margin-top: 5px; font-family: monospace; text-align: center;\">&lt;loc500&gt;&lt;loc480&gt;&lt;loc600&gt;&lt;loc520&gt; grasp</p></div><div style=\"display: inline-flex; flex-direction: column; margin: 10px;\"><img style=\"width:256px; height: 256px;\" src=\"data:image/jpeg;base64,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\" /><p style=\"width: 256px; margin-top: 5px; font-family: monospace; text-align: center;\">&lt;loc500&gt;&lt;loc450&gt;&lt;loc600&gt;&lt;loc520&gt; grasp</p></div>"
            ]
          },
          "metadata": {}
        },
        {
          "output_type": "stream",
          "name": "stdout",
          "text": [
            "--- Evaluation complete ---\n",
            "\n",
            "step:   2/574 | lr: 0.00103 | loss: 0.9454\n",
            "step:   3/574 | lr: 0.00155 | loss: 0.9630\n",
            "step:   4/574 | lr: 0.00207 | loss: 0.9399\n",
            "step:   5/574 | lr: 0.00259 | loss: 0.9404\n",
            "step:   6/574 | lr: 0.00310 | loss: 0.9599\n",
            "step:   7/574 | lr: 0.00362 | loss: 0.9011\n",
            "step:   8/574 | lr: 0.00414 | loss: 0.9130\n",
            "step:   9/574 | lr: 0.00466 | loss: 0.9277\n",
            "step:  10/574 | lr: 0.00517 | loss: 0.9614\n",
            "step:  11/574 | lr: 0.00569 | loss: 0.9223\n",
            "step:  12/574 | lr: 0.00621 | loss: 0.8727\n",
            "step:  13/574 | lr: 0.00672 | loss: 0.9010\n",
            "step:  14/574 | lr: 0.00724 | loss: 0.9287\n",
            "step:  15/574 | lr: 0.00776 | loss: 0.9521\n",
            "step:  16/574 | lr: 0.00828 | loss: 0.9012\n",
            "step:  17/574 | lr: 0.00879 | loss: 0.9864\n",
            "step:  18/574 | lr: 0.00931 | loss: 0.9107\n",
            "step:  19/574 | lr: 0.00983 | loss: 0.9070\n",
            "step:  20/574 | lr: 0.01034 | loss: 0.9845\n",
            "\n",
            "--- Running evaluation at step 20 ---\n"
          ]
        },
        {
          "output_type": "display_data",
          "data": {
            "text/plain": [
              "<IPython.core.display.HTML object>"
            ],
            "text/html": [
              "<div style=\"display: inline-flex; flex-direction: column; margin: 10px;\"><img style=\"width:256px; height: 256px;\" src=\"data:image/jpeg;base64,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\" /><p style=\"width: 256px; margin-top: 5px; font-family: monospace; text-align: center;\">&lt;loc502&gt;&lt;loc462&gt;&lt;loc602&gt;&lt;loc522&gt; grasp</p></div><div style=\"display: inline-flex; flex-direction: column; margin: 10px;\"><img style=\"width:256px; height: 256px;\" src=\"data:image/jpeg;base64,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\" /><p style=\"width: 256px; margin-top: 5px; font-family: monospace; text-align: center;\">&lt;loc502&gt;&lt;loc462&gt;&lt;loc602&gt;&lt;loc522&gt; grasp</p></div><div style=\"display: inline-flex; flex-direction: column; margin: 10px;\"><img style=\"width:256px; height: 256px;\" src=\"data:image/jpeg;base64,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\" /><p style=\"width: 256px; margin-top: 5px; font-family: monospace; text-align: center;\">&lt;loc502&gt;&lt;loc462&gt;&lt;loc602&gt;&lt;loc522&gt; grasp</p></div><div style=\"display: inline-flex; flex-direction: column; margin: 10px;\"><img style=\"width:256px; height: 256px;\" src=\"data:image/jpeg;base64,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\" /><p style=\"width: 256px; margin-top: 5px; font-family: monospace; text-align: center;\">&lt;loc502&gt;&lt;loc462&gt;&lt;loc602&gt;&lt;loc522&gt; grasp</p></div>"
            ]
          },
          "metadata": {}
        },
        {
          "output_type": "stream",
          "name": "stdout",
          "text": [
            "--- Evaluation complete ---\n",
            "\n",
            "step:  21/574 | lr: 0.01086 | loss: 0.9305\n",
            "step:  22/574 | lr: 0.01138 | loss: 0.9292\n",
            "step:  23/574 | lr: 0.01190 | loss: 0.9470\n",
            "step:  24/574 | lr: 0.01241 | loss: 0.9332\n",
            "step:  25/574 | lr: 0.01293 | loss: 0.9146\n",
            "step:  26/574 | lr: 0.01345 | loss: 0.9317\n",
            "step:  27/574 | lr: 0.01397 | loss: 0.9213\n",
            "step:  28/574 | lr: 0.01448 | loss: 0.9500\n",
            "step:  29/574 | lr: 0.01500 | loss: 0.9503\n",
            "step:  30/574 | lr: 0.01552 | loss: 0.9150\n",
            "step:  31/574 | lr: 0.01603 | loss: 0.9259\n",
            "step:  32/574 | lr: 0.01655 | loss: 0.9358\n",
            "step:  33/574 | lr: 0.01707 | loss: 0.9407\n",
            "step:  34/574 | lr: 0.01759 | loss: 0.9016\n",
            "step:  35/574 | lr: 0.01810 | loss: 0.9177\n",
            "step:  36/574 | lr: 0.01862 | loss: 0.8814\n",
            "step:  37/574 | lr: 0.01914 | loss: 0.9189\n",
            "step:  38/574 | lr: 0.01966 | loss: 0.9301\n",
            "step:  39/574 | lr: 0.02017 | loss: 0.9248\n",
            "step:  40/574 | lr: 0.02069 | loss: 0.9152\n",
            "\n",
            "--- Running evaluation at step 40 ---\n"
          ]
        },
        {
          "output_type": "display_data",
          "data": {
            "text/plain": [
              "<IPython.core.display.HTML object>"
            ],
            "text/html": [
              "<div style=\"display: inline-flex; flex-direction: column; margin: 10px;\"><img style=\"width:256px; height: 256px;\" src=\"data:image/jpeg;base64,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\" /><p style=\"width: 256px; margin-top: 5px; font-family: monospace; text-align: center;\">&lt;loc504&gt;&lt;loc402&gt;&lt;loc648&gt;&lt;loc508&gt; grasp</p></div><div style=\"display: inline-flex; flex-direction: column; margin: 10px;\"><img style=\"width:256px; height: 256px;\" src=\"data:image/jpeg;base64,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\" /><p style=\"width: 256px; margin-top: 5px; font-family: monospace; text-align: center;\">&lt;loc502&gt;&lt;loc448&gt;&lt;loc624&gt;&lt;loc508&gt; grasp</p></div><div style=\"display: inline-flex; flex-direction: column; margin: 10px;\"><img style=\"width:256px; height: 256px;\" src=\"data:image/jpeg;base64,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\" /><p style=\"width: 256px; margin-top: 5px; font-family: monospace; text-align: center;\">&lt;loc504&gt;&lt;loc402&gt;&lt;loc624&gt;&lt;loc508&gt; grasp</p></div><div style=\"display: inline-flex; flex-direction: column; margin: 10px;\"><img style=\"width:256px; height: 256px;\" src=\"data:image/jpeg;base64,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\" /><p style=\"width: 256px; margin-top: 5px; font-family: monospace; text-align: center;\">&lt;loc502&gt;&lt;loc448&gt;&lt;loc624&gt;&lt;loc508&gt; grasp</p></div>"
            ]
          },
          "metadata": {}
        },
        {
          "output_type": "stream",
          "name": "stdout",
          "text": [
            "--- Evaluation complete ---\n",
            "\n",
            "step:  41/574 | lr: 0.02121 | loss: 0.9229\n",
            "step:  42/574 | lr: 0.02172 | loss: 0.9053\n",
            "step:  43/574 | lr: 0.02224 | loss: 0.9216\n",
            "step:  44/574 | lr: 0.02276 | loss: 0.9642\n",
            "step:  45/574 | lr: 0.02328 | loss: 0.9582\n",
            "step:  46/574 | lr: 0.02379 | loss: 0.9883\n",
            "step:  47/574 | lr: 0.02431 | loss: 0.9343\n",
            "step:  48/574 | lr: 0.02483 | loss: 0.9157\n",
            "step:  49/574 | lr: 0.02534 | loss: 0.9184\n",
            "step:  50/574 | lr: 0.02586 | loss: 0.9274\n",
            "step:  51/574 | lr: 0.02638 | loss: 0.9349\n",
            "step:  52/574 | lr: 0.02690 | loss: 0.9771\n",
            "step:  53/574 | lr: 0.02741 | loss: 0.9494\n",
            "step:  54/574 | lr: 0.02793 | loss: 0.9016\n",
            "step:  55/574 | lr: 0.02845 | loss: 0.8764\n",
            "step:  56/574 | lr: 0.02897 | loss: 0.9694\n",
            "step:  57/574 | lr: 0.02948 | loss: 0.9557\n",
            "step:  58/574 | lr: 0.03000 | loss: 0.9310\n",
            "step:  59/574 | lr: 0.03000 | loss: 0.9718\n",
            "step:  60/574 | lr: 0.03000 | loss: 0.9119\n",
            "\n",
            "--- Running evaluation at step 60 ---\n"
          ]
        },
        {
          "output_type": "display_data",
          "data": {
            "text/plain": [
              "<IPython.core.display.HTML object>"
            ],
            "text/html": [
              "<div style=\"display: inline-flex; flex-direction: column; margin: 10px;\"><img style=\"width:256px; height: 256px;\" src=\"data:image/jpeg;base64,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\" /><p style=\"width: 256px; margin-top: 5px; font-family: monospace; text-align: center;\">&lt;loc500&gt;&lt;loc450&gt;&lt;loc600&gt;&lt;loc500&gt; grasp</p></div><div style=\"display: inline-flex; flex-direction: column; margin: 10px;\"><img style=\"width:256px; height: 256px;\" src=\"data:image/jpeg;base64,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\" /><p style=\"width: 256px; margin-top: 5px; font-family: monospace; text-align: center;\">&lt;loc500&gt;&lt;loc450&gt;&lt;loc600&gt;&lt;loc500&gt; grasp</p></div><div style=\"display: inline-flex; flex-direction: column; margin: 10px;\"><img style=\"width:256px; height: 256px;\" src=\"data:image/jpeg;base64,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\" /><p style=\"width: 256px; margin-top: 5px; font-family: monospace; text-align: center;\">&lt;loc500&gt;&lt;loc450&gt;&lt;loc600&gt;&lt;loc500&gt; grasp</p></div><div style=\"display: inline-flex; flex-direction: column; margin: 10px;\"><img style=\"width:256px; height: 256px;\" src=\"data:image/jpeg;base64,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\" /><p style=\"width: 256px; margin-top: 5px; font-family: monospace; text-align: center;\">&lt;loc500&gt;&lt;loc450&gt;&lt;loc600&gt;&lt;loc500&gt; grasp</p></div>"
            ]
          },
          "metadata": {}
        },
        {
          "output_type": "stream",
          "name": "stdout",
          "text": [
            "--- Evaluation complete ---\n",
            "\n",
            "step:  61/574 | lr: 0.03000 | loss: 0.9410\n",
            "step:  62/574 | lr: 0.03000 | loss: 0.9155\n",
            "step:  63/574 | lr: 0.02999 | loss: 0.9247\n",
            "step:  64/574 | lr: 0.02999 | loss: 0.9034\n",
            "step:  65/574 | lr: 0.02999 | loss: 0.9178\n",
            "step:  66/574 | lr: 0.02998 | loss: 0.9927\n",
            "step:  67/574 | lr: 0.02998 | loss: 0.9537\n",
            "step:  68/574 | lr: 0.02997 | loss: 0.9401\n",
            "step:  69/574 | lr: 0.02997 | loss: 0.9113\n",
            "step:  70/574 | lr: 0.02996 | loss: 0.9608\n",
            "step:  71/574 | lr: 0.02995 | loss: 0.9364\n",
            "step:  72/574 | lr: 0.02995 | loss: 0.9615\n",
            "step:  73/574 | lr: 0.02994 | loss: 0.8980\n",
            "step:  74/574 | lr: 0.02993 | loss: 0.9608\n",
            "step:  75/574 | lr: 0.02992 | loss: 0.9054\n",
            "step:  76/574 | lr: 0.02991 | loss: 0.8970\n",
            "step:  77/574 | lr: 0.02990 | loss: 0.9306\n",
            "step:  78/574 | lr: 0.02989 | loss: 0.8842\n",
            "step:  79/574 | lr: 0.02988 | loss: 0.9743\n",
            "step:  80/574 | lr: 0.02987 | loss: 0.9101\n",
            "\n",
            "--- Running evaluation at step 80 ---\n"
          ]
        },
        {
          "output_type": "display_data",
          "data": {
            "text/plain": [
              "<IPython.core.display.HTML object>"
            ],
            "text/html": [
              "<div style=\"display: inline-flex; flex-direction: column; margin: 10px;\"><img style=\"width:256px; height: 256px;\" src=\"data:image/jpeg;base64,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\" /><p style=\"width: 256px; margin-top: 5px; font-family: monospace; text-align: center;\">&lt;loc500&gt;&lt;loc430&gt;&lt;loc563&gt;&lt;loc486&gt; grasp</p></div><div style=\"display: inline-flex; flex-direction: column; margin: 10px;\"><img style=\"width:256px; height: 256px;\" src=\"data:image/jpeg;base64,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\" /><p style=\"width: 256px; margin-top: 5px; font-family: monospace; text-align: center;\">&lt;loc500&gt;&lt;loc430&gt;&lt;loc563&gt;&lt;loc484&gt; grasp</p></div><div style=\"display: inline-flex; flex-direction: column; margin: 10px;\"><img style=\"width:256px; height: 256px;\" src=\"data:image/jpeg;base64,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\" /><p style=\"width: 256px; margin-top: 5px; font-family: monospace; text-align: center;\">&lt;loc500&gt;&lt;loc430&gt;&lt;loc563&gt;&lt;loc484&gt; grasp</p></div><div style=\"display: inline-flex; flex-direction: column; margin: 10px;\"><img style=\"width:256px; height: 256px;\" src=\"data:image/jpeg;base64,/9j/4AAQSkZJRgABAQAAAQABAAD/2wBDAAgGBgcGBQgHBwcJCQgKDBQNDAsLDBkSEw8UHRofHh0aHBwgJC4nICIsIxwcKDcpLDAxNDQ0Hyc5PTgyPC4zNDL/2wBDAQkJCQwLDBgNDRgyIRwhMjIyMjIyMjIyMjIyMjIyMjIyMjIyMjIyMjIyMjIyMjIyMjIyMjIyMjIyMjIyMjIyMjL/wAARCADgAOADASIAAhEBAxEB/8QAHwAAAQUBAQEBAQEAAAAAAAAAAAECAwQFBgcICQoL/8QAtRAAAgEDAwIEAwUFBAQAAAF9AQIDAAQRBRIhMUEGE1FhByJxFDKBkaEII0KxwRVS0fAkM2JyggkKFhcYGRolJicoKSo0NTY3ODk6Q0RFRkdISUpTVFVWV1hZWmNkZWZnaGlqc3R1dnd4eXqDhIWGh4iJipKTlJWWl5iZmqKjpKWmp6ipqrKztLW2t7i5usLDxMXGx8jJytLT1NXW19jZ2uHi4+Tl5ufo6erx8vP09fb3+Pn6/8QAHwEAAwEBAQEBAQEBAQAAAAAAAAECAwQFBgcICQoL/8QAtREAAgECBAQDBAcFBAQAAQJ3AAECAxEEBSExBhJBUQdhcRMiMoEIFEKRobHBCSMzUvAVYnLRChYkNOEl8RcYGRomJygpKjU2Nzg5OkNERUZHSElKU1RVVldYWVpjZGVmZ2hpanN0dXZ3eHl6goOEhYaHiImKkpOUlZaXmJmaoqOkpaanqKmqsrO0tba3uLm6wsPExcbHyMnK0tPU1dbX2Nna4uPk5ebn6Onq8vP09fb3+Pn6/9oADAMBAAIRAxEAPwDxGf5L5iOobNeqQETQRyDo6hvzFeXOvmTNJjGTxXo+gyedodq3cJtP4cVN9DVIu7a2NEl4eEn/AGhWWRU1nJ5F3G/bOD9Kks6lalAqNORmplFAxQOKUClApwFIBAKXFKBS4oATFAFOxSgUxDcUYp2KXFADcUYp4FGKQDcUY5p+KMUAM20mKeRRigZCybjnNNMYFTYprDHNTYDzPxHODrt0SeFYKPwArl73VVjyqfM3p2H1qHWdUkvNQunU4V5WP1GTWMx9OahLUtuw6ed5pN8jZNWbIjYxPBNUwnPPJq1DkdBWiM73LhIzSM4C/wCFRduKRiSMU9hFfbz0rtPCTs+nTRk/6uTj8RXHkYNdF4TuUhuriOSRUV0DZY46H/69UgOu28c0hFVptZ02E4e8hz6A5/lVM+JbBpBHCJpnY4UJGeT+NOwXO602bzrRGP3hwa0FFYukboZTE4IDjOD61uqKRQAU8ClC04CkA3FKBTgKULQA3FGKfijFAhuKXFOxS4piGgUYp+3NLtpAMxRin7aMUWGR4oxzUmKTFFgIiKp6nN9l0u7nP/LOF2/IGr5FUdUt47rT5reUExyrsYA4yDUtaDR88SKS5GfqaFjPYV643w90OTJEU6E+kp/rVSX4a2Jz5N7coe24K39KLPsD16nmaw4HzCpFXHQV3cvw4uFB8rUYyewaIj+tVm+H+pJyLm1Y/wDAh/ShegrHHhCV6CkOQO1bmreHrvR445Lh42DsVGwk4NYrjBOapBYZtHelEY9Aam2ZHTvTgo54pXERbcnpXZ/D/QvtmoSalMuYrf5Yx6uf8B/OuUjjaSRY4wWdiFVR3J6V7b4e0ldH0a3sxy6rmQ+rHk1S3Gi/DYQFlZ4wSDx7VorY27Dow/GokGMVZjNVZBcb/ZsR+7I4/KgaYP8Anqf++ashqeDSsK7Kh0z0l/NaT+zH7Sqfwq/mnA0WC5m/2bNzyn50f2bP6If+BVpg04GiwXMn+zrj+4PzpPsNz/zyP5itjNOBp2FcxfsVxn/UtR9jn/55N+VbgNKDSsFzBNtMOsL/APfJpDC46xuP+AmuhDUb6LBc5wxsP4W/Km7a6TzASQCCRQWBHIBosO5zLAVnzq8zLGmWIbdgdq6+RYz1jQ/8BFUpo4xnYir9Bips7juY3kYGDSGLirzpULLViKToKhZKtyDFVnq0M5Dx3AG0NH7pMp/Q15rIOM16p4yQyeHJ/wDZZW/UV5dIuQSDxWb0kPoSFRyRTgmRnpTvfHenojOyqqlnY4UDuTUiOo8CaKL3VDfSrmK1+7kdXPT8uv5V6kgrK8P6Uuj6RDa8F8bpD6setbCiqQyRamQ81EtSrTETA808Go1pxYKMn1AoETA5pc800UooEPzRmmilpiHA08GoxThQBIDSiminUgHZpM0lBoAOB0pCaKaaAGOarvU7VC1AFdhUDirLCoXFAyjKOKqOKvyiqci1SKOe8ToX8PXwH/PPP5GvJZDxxXsmuRGXRr1OhML/AMq8Yckr161Etx9C9tz3/Suq8DaR9t1f7ZImYbX5gT3c9Py6/lXMDkYxn0A717H4b0kaTokEG3ErDfKf9o/5x+FSkBrBakUUiipAK0EKKkFIBT1FIQ9aft3Fc9BTQKkFAhwpaSloAWjNJRmgQ9acKYDThTAkFLSCnAUhBSU6gigBpFNNPppoGRNUbCpmFRMKAIWFQOKssOKhYUDKci9aqSLWg65qrIuBVIZl3kXmW0qf3kI/SvCXJCkdxx9K99mHBFeD3aql1OmOFkZf1NTLcrodp4H0kahrqzSIWhtV8wntu/hH8z+FesBaxfCOito2hxxyri4lPmyjHQnoPwFdCFpRExgWnhacFp4WqENC08LinBaeFoAaFp4FKFp4WkIbikp+KQigQykpxpAKYDhT1pAKeq5oAcKeBSBABTwKBCYxSGn7aQigBhppPOKkIppGe1ICNqjIqYioyKBkRFQuKsMtQmgCu4qvInWrbCoXXiqQzLnTArwrWY/L1q+TpieQf+PGvfJ14rw3xQhTxNqKgY/fE/nzUy3Ra2PoMLzTwtOA5p4WhEDQtPC0oFOAoGIFp4FKBTwtAhAKcBTgKXFAiMjAphFSsKZQBGaBTiOaz9X1eDRbaKaaG4m86ZYUSBQzFiCRwSPSk2oq7NKdOdWahBXbNICpVFc0PFn/AFL2v/8AgF/9lVa58dxmztZNK02e8nuEaQQsQhjRWKksRnuDilGpCTsmbVcFXpR55x026f10OyAzingVjeGtfh8Q6e1ykTQyRuY5YmOSjelbgXitGmmcj0GMMLx17Uu0gc1Jj2oK+tICErntSFKl20mKAICKjK1YK1GRmkBAy1Eyd6slajZaBlVlqFkq2y1Ey1SGZ0yZB4rw/wAbwmDxZfDP39rj8VFe7ypwa8W+JaBPFmefmt0J/UUp9LFR2Z7oBTwKMU4CpJACnAUAU4CmAoFPApAKetACgUAU6lxgZoERMKYRUjU08CgCrFcwXGfJlR9pwdp6VieKx/yAv+wvb/8As1TajpLpMb2wJjmHLKvG6qU723iC2hs9QmntZYZllSWBgjbwCByQcdaiacoNLc6sHUhSrxnN6f8AAOpkkSGJ5JGCogLMx6AV4v4V1i/s7m6t7GwN5cSxCOLnAjAJJJ9ssa6nX9FZU+w22tavcyzDBjnut6EHsRgZrpfCPhmPQdNAcK13L80rj19B7UouTndro1+X+R0SlQpYWVOE+ZylF7NbKX+ZB8P9FvdK0+8a/UJNc3BkIBz2H9c12eOgqNBgVMPWtW29zzZO7uNbgUuMHH504rlh6dqOtBI0jmo8VLimkUARHjoOaYVqYimEUhkJFRkVORUZFAEDCo2WrDCoyKpDKcida8c+KsGzX7SQA/vLbBP0Y/417U68V5J8XISt1pk2OqSL+RBpT2RcT1wClAoxTsVJIoFOApBT1pgKOKeopo5qQUAGKU9MUUjGgQw9aY3SnZrP1OW/WMLp8MTytxvlbCp746mkFh91eW1lCZrmVI0Hdj1+lcPqGtW2qah/oVuygcGTHL/hWqnhCS8uPtOsahLdS/3V+VR7D0FdBZaTZWKBbe3RPcDn86W+yK0RyemSzWN2tzdQuSBhfMGK1oPiL4ced4ZLwwMjbSZEIUn2NdFNaxXUDxSIGVhjBry0+GrTwrr8kupWbXWkyqVVwm/yST3H9atSS0kVGMZXuerWOp2WoRB7S6hnX1jcN/Kr6nivJ7nwfok9u+qeHtU+zSIC4eCbgEeo7V2/gnV7jWvDNrd3XM3zIzD+Pacbvxp6drepEopK6OjBopBSmkQJTacaQ0gGEU0jinmm4oGRkU0ipDTcUARMtRMKnYVGwqkBXYV5n8XYM6fpkvpM6/muf6V6eRXnvxah3eGbaQAHZdL+qsKJbFw3PQAKUUClFQIUCniminigY4DFOFIKdQIKYxpx6VETQAhqNjTiajzQA9aeKYvSpF60xEqCmzW8dwpWRAwPYipF6VIooeoHJ3fw+0W7n802oQnr5bFQfqK6jTrGHTrOO2t0CRRjCqOgqwBTxxQtNAcm9GFFFFBIUhpaSgY0jNNp56U00AMIpMU8ikxQBGRUbCpyKjYU0MrEVxPxQi3eDJW4+SeNufrj+tdyRXKfESLf4I1DABKhG/JxTl8JcPiR02KdikFOHv0rMkBT1qNOcn1PFSCmMdTqQUtAhr8Coc1JIeKizxQA1jTKVjzSL1oGSLUqColqeMUxEqipFFNUVKopkjgKdilApcUhDQOaMU7FGKBjMUYp+KTFADCKTFPxSYoAYRSYp+KTFADCOKjYVMajIpoZARXPeNo/M8GasvpbM35c/wBK6QisjxJD5/hrU4sfetZB/wCOmnL4WVD4kXqO2KKUVmIVR6U8U0U8UwHCiig8CgCKSoicU9zzUZNIZGx5pVphPNPWmBItWI6rirMfSmiWTDpUy1COtTLTESClpopc0CF70GiigApKKKQAaSjPFJQAUmKXtxSZoGNIphqQ0w1SAiYVVvY/Ns5oz0eNl/MVcIqNwCMU9xrcrCnCminCshjwKcKaKcKAFprnAp1Ru3FAETGo2NKx5qNjQMbnmnrUXepFoAlWrUdVV61aj6VSJZKDUy1COtSimIkBpaaKUUhC5pTSUEUAJmlpKKADNFJRQAZpKKKBgaYacelNNNANNRvUhqOTpVICqDThUeaeOlZFEgp2aYKUGmA7OKgc1Ix4qu7UANY1CxpzGomNIYoPNSKahBqQGmBOnNW4+lU4zzVtOlMlk69amFV1PNTA0xEgpfxpgNLmgQ8daU9KaDSk8UAJmkpM0ZpDDNLTc0ZoADRSe9FACmmmlNNPWqQCGo5OlPJqOT7pqkM//9k=\" /><p style=\"width: 256px; margin-top: 5px; font-family: monospace; text-align: center;\">&lt;loc500&gt;&lt;loc430&gt;&lt;loc563&gt;&lt;loc484&gt; grasp</p></div>"
            ]
          },
          "metadata": {}
        },
        {
          "output_type": "stream",
          "name": "stdout",
          "text": [
            "--- Evaluation complete ---\n",
            "\n",
            "step:  81/574 | lr: 0.02985 | loss: 0.9612\n",
            "step:  82/574 | lr: 0.02984 | loss: 0.9139\n",
            "step:  83/574 | lr: 0.02983 | loss: 0.8866\n",
            "step:  84/574 | lr: 0.02981 | loss: 0.9156\n",
            "step:  85/574 | lr: 0.02980 | loss: 1.0137\n",
            "step:  86/574 | lr: 0.02978 | loss: 0.9750\n",
            "step:  87/574 | lr: 0.02977 | loss: 0.9034\n",
            "step:  88/574 | lr: 0.02975 | loss: 0.8417\n",
            "step:  89/574 | lr: 0.02973 | loss: 0.9073\n",
            "step:  90/574 | lr: 0.02972 | loss: 0.9344\n",
            "step:  91/574 | lr: 0.02970 | loss: 0.9420\n",
            "step:  92/574 | lr: 0.02968 | loss: 0.9052\n",
            "step:  93/574 | lr: 0.02966 | loss: 0.9494\n",
            "step:  94/574 | lr: 0.02964 | loss: 0.9230\n",
            "step:  95/574 | lr: 0.02962 | loss: 0.8744\n",
            "step:  96/574 | lr: 0.02960 | loss: 0.9650\n",
            "step:  97/574 | lr: 0.02958 | loss: 0.9520\n",
            "step:  98/574 | lr: 0.02956 | loss: 0.9435\n",
            "step:  99/574 | lr: 0.02954 | loss: 0.9072\n",
            "step: 100/574 | lr: 0.02951 | loss: 0.9491\n",
            "\n",
            "--- Running evaluation at step 100 ---\n"
          ]
        },
        {
          "output_type": "display_data",
          "data": {
            "text/plain": [
              "<IPython.core.display.HTML object>"
            ],
            "text/html": [
              "<div style=\"display: inline-flex; flex-direction: column; margin: 10px;\"><img style=\"width:256px; height: 256px;\" src=\"data:image/jpeg;base64,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\" /><p style=\"width: 256px; margin-top: 5px; font-family: monospace; text-align: center;\">&lt;loc501&gt;&lt;loc440&gt;&lt;loc601&gt;&lt;loc504&gt; grasp</p></div><div style=\"display: inline-flex; flex-direction: column; margin: 10px;\"><img style=\"width:256px; height: 256px;\" src=\"data:image/jpeg;base64,/9j/4AAQSkZJRgABAQAAAQABAAD/2wBDAAgGBgcGBQgHBwcJCQgKDBQNDAsLDBkSEw8UHRofHh0aHBwgJC4nICIsIxwcKDcpLDAxNDQ0Hyc5PTgyPC4zNDL/2wBDAQkJCQwLDBgNDRgyIRwhMjIyMjIyMjIyMjIyMjIyMjIyMjIyMjIyMjIyMjIyMjIyMjIyMjIyMjIyMjIyMjIyMjL/wAARCADgAOADASIAAhEBAxEB/8QAHwAAAQUBAQEBAQEAAAAAAAAAAAECAwQFBgcICQoL/8QAtRAAAgEDAwIEAwUFBAQAAAF9AQIDAAQRBRIhMUEGE1FhByJxFDKBkaEII0KxwRVS0fAkM2JyggkKFhcYGRolJicoKSo0NTY3ODk6Q0RFRkdISUpTVFVWV1hZWmNkZWZnaGlqc3R1dnd4eXqDhIWGh4iJipKTlJWWl5iZmqKjpKWmp6ipqrKztLW2t7i5usLDxMXGx8jJytLT1NXW19jZ2uHi4+Tl5ufo6erx8vP09fb3+Pn6/8QAHwEAAwEBAQEBAQEBAQAAAAAAAAECAwQFBgcICQoL/8QAtREAAgECBAQDBAcFBAQAAQJ3AAECAxEEBSExBhJBUQdhcRMiMoEIFEKRobHBCSMzUvAVYnLRChYkNOEl8RcYGRomJygpKjU2Nzg5OkNERUZHSElKU1RVVldYWVpjZGVmZ2hpanN0dXZ3eHl6goOEhYaHiImKkpOUlZaXmJmaoqOkpaanqKmqsrO0tba3uLm6wsPExcbHyMnK0tPU1dbX2Nna4uPk5ebn6Onq8vP09fb3+Pn6/9oADAMBAAIRAxEAPwDxC6BF5JjruruPDd6bvTArnMkR2n6dq4yRfMmaQjGTwK2fDk5t9SCE4SUbT9e1Zvaxqkdlitzw9PiSS3J6/Mv9awxnvU9lcG2vIpewbn6VNizuFqUCooyGAIPBqdRUFCgUoFKBTsUAJilApQKdigBuKXFOxRigQ3FLinYpcUAMxRin4pcUAMxRin4oxSAjxSEVJikxQMgZMmmmMD3qYimkUrAeb+Jpx/btwCeE2qPyrlb3VljBRPmb07D61Fr+qSXer3rK2FaZ+/UZxWKSegqVG7uy27Cz3DzPvkYk9varNiRtYngmqgj+bnk1YhBHArVIzuXcjtj6UM4C/wCAqLtxTSxII5qhFXZ7U+NmidXXhlIIpxHOKAvPTNMR08ev2gjXd5m7HIC9KG8QWvVUkP4Yrm8UscTSyLHGpZ2OFUdzS0Hqex+FtUTVtHSVMgxsY2B65H/1sVvqK5bwtYnSIktD/GMsfV+9dYq0nqUhQKeBShacBSAaBSgU/bS7aQDMUYp+2lxTEMxS7adilxTAYBS4p2KXHFIBmKTFSYoIosBHikxUmKQikBERVW9lFtZXE56Rxs/5DNXSKp6jClxYTQSDKSqUYZxkHg0rDR87SKzSEk9Tk0LF7V7AfAGgyc/ZpVJ9Jm/xqtJ8NdMOfKurpPYkMP5U9ewPV3PLVhwOalVMdq9Ak+GrjPlamM9t0P8A9eqz/Dq/U5W9t2+qsKfyFY4rYSvakI49K39Z8NXeiwxy3EsTq7FPkzwetYbjqDVJ2CxFsoCYNTFc8Y5pwX1oYiHbmu0+Hmgi91GTUplzFb/LH7ue/wCA/nXKRxNJIscalnYhVUdya9v8O6QujaNb2Y5dVzIR3Y8k0bjRowWMDMpeMHHT2rSWytmH3CPoagjGKtRt0FOyC4n9mwkcO4oGlp/z2b8hVhTUimjlQrsqf2WP+ep/Kj+ym7TL+K1fBpwNHKF2Zg0ubnLJ+dJ/Zdx/sH/gVaoNO3UKIrmP/Ztz/dX/AL6pP7PuR/yyJ/EVs7uacDRyhzGF9iuB/wAsWpfsdx/zxf8AKt0GnA0cocxz5tph1hk/75NNMLg8ow/4Ca6PdRuo5Q5jmShHUH8qaVrp/MUkgEEjrSMVI5UH6ilyj5jliKoXAeVhEnJ3A4Fdi6Rd4k/75FUZoYlzsjVc/wB0YqeVj5jGEG0YNKYuKutHUbJVoRUMYqNkq2VqJxVoDjPH0AbQA/dJlP8AMV5c/rXrvjaIv4Xuv9kq3/jwryRlJ74FRL4iuiHlcZIpQmR6U8evvT0jZ3VVUs7HCqO5NQI6nwFogvNVN/KuYrX7uRwXPT8uv5V6qgrJ8P6Smj6RBaDlwN0jerHrWyo5q0Nj1qdOtRKKlWmSTg1IpqJacW2Lk+uKAJgc07PNMBpRQIeDS5puaKYh4NOBqMU8UCHg04UwU6gBaQmimmgA6dBSFqQ00mkMaxqvJUzVE1IZXYZqFhVhhUbCmBWZahYVZYVC4qkBz3iuIy+GdQUdfKJ/LmvGpF44r3DW4vO0a9j9YHH6GvD3JIByMGpl8RXQmC59K63wHpH27Vvtsi5htORnu56fl1/KuWxkYAyScADvXsvhrSRpGiQW+3ErDfKf9o9f8PwqLajNdRUiikUVIoqhDlqRRTQKkUUxD1p4XJGeg7U1RUgoEPFLmkFFADqM0maTNMQ9aeKjBp4oESClFNFOFABTTTqQ0gGmmNT6a1AyJqjIqVqjIpARGo2HFSmo2pgQMKicVOwqJxVIZQu498EiHoykfpXgT5VSp6jivoKXpXgN6BHeXCFeFlcdfc1MtGUtjr/A2k/2hryzuhaC0HmE9t38I/r+FesBaxfCOitouhRxSri4lPmyj0J7fgMCuhCVKBjAtPC08LTgtUIQCngUoWnhaAEAqRRQFp4WgQmOKTFPxxSYoENNJTiKaBzQA4VIopoFSKtMQvtTxQFwKeBQAzFNNSEU0igBhqMnmpSKYRSAjNRmpSKYRSGRNUbdKlYVGelAyBqiep2FQuOKtAU5eAa8H1yPy9c1BPS4k/8AQjXvUo4rw7xShTxPqKgY/fFvz5qZPVFLY+gAvNSBaUDmnhRSENC08ClAp4FMBAtOC0oWnhaBCBaeBSgUuKYhpHFNxTyKZikAxqBStSgUwHKM1Kork7bxtBdQrNbaHrk0TZ2vHaBlPODghvWorL4h2Ul79lubG+hZ7jyVZolAXJwA3zcH1rP21PudryzFq6cNvQ7YDNO28UKKk24rU4CJhheOvajbgVKR7UFfWgCArntTCtTlaYR1pDK5WmMtWCtRFaQEBWo2SrBWmFaQyqy1Ey1bZahZapAUZE614j45g8jxbfc/f2P9MqP8K91dOK8W+JiBPFh6826E/rRLoXHZnugFOAoxTgKkkAKcKBTgOlMBQKeBSAU8UAKBSgUCnYwM0CGMOKjIqVqYeKAIj1pGO0U41XuZNpAoAwvAsoj8FWTHoolJ/wC/jV5zMWcJNu3GXUA+765rtfDUrr8PEWMZfyZgo99z1xcn7qzsEOM/aUY/r/jXDOX7qK8ke7/zNan+Of6nt+lXAvNNt5wc70BP1xzV49q5nwTM0mg7GOfKlZAfbr/WuoHrXoXueANbgUYwcU4rk5pcZoAjIqMjmpiOKYRSAhbjoOajK8VMRTGpDISKjKnJ9KmNNIpDIGWo2WrDCoyKtAVXWvHfivAE8QWkgX/WW2Cfox/xr2dlryb4vxEXWlzY4Mci/kQf60p9C49T10CloxTgKkkAKcKQU8UIYoHFPUU0CpAKYgApT0paaTxQIaetMc8UpNRO1IBM1SuTlzVuqzpk5oYzkLPw9rGnWaWtr4h8uBM7V+xIcZJJ5Jz1Jrmr3Rrm1vAs155qxSh+IQoPfseK9S+zlh0rjvEtpKt1v8rIZSC23OK55UY2/wCCz0XmeIcnL3bvryQvr58tzq/A6Y8OI/8Az0ldv6f0rqFzisbwzbG28O2MRGG8sMfqef61tCupHlscDSUYpKAENMIqQ9KYaAIzTDUjVGakYw0008000DI2FMIqVhTCKtCISK8z+L8OdO0yX0mdPzXP9K9PIrz34uQ7vDFtJgZS6HX3VqU9i4bnoIFOAoApRUAKBTxTRTwKYDgKcKQU6gQdqjY089KhY0ANJ4qJjzT26VF1NIYvakAyaU9KVRzTETIvHSm/Z1d8kA81Oi8U5Bl6bQiwgwAKeKRRTqZIUYoopgIaYafTTUjIzzTDUhFMPXFAxhFNp5pMUgGEUwipSKYRVoCIiuI+KUe7wa7f3J4z+uP613WMVyXxHiMnge/IGdpRvycUS2Kh8R1WKcBSU4Y61mAAU8UxOQT6mpBTAUHmnUCloEMc4FQk1LIeKh6CkMY9RinOeaaKAHY5qWNeaYoyanjFUhMlA4p8a80AcVKi0yR4FLilAoxTJEo6UuKMUANxTT1p+KQikMjIphXmpSKbikMiIoxUhWkxQMiIppFSkU0iqQiEiud8cxeZ4K1Yeluzflz/AErpSKxvFMPn+FtVi/vWsg4/3TRL4WXD4kadLzjFFOFZiADHSpAKaop+KYCgUUtIelAEUlQmpHNRMaQyJutC0jdactAEi1YjqutWY6pEsnWpl6VCKmSmSx9FFFMQUUtJQAlIe9OpKQDTTaeabSKEpMUtFADCKaRUhFNNUgIiKqahF52n3ER6PEy/mDV0io5FypB78VQ09SEU4U0U8VghjhTxTRThTAWmueKXNMc0AQseaiY8U9jULGkMYTzT1NRd6kU0ICVetWo+gqqnWrUfSrRLJlqZTUK9amFMljwaWmilFAhaKO9BoASkoooGJmkJpTSUhiUUUmKAF600inGm96pCENRvUh64qN+hqhorCniogakFYlEgpabmlzTAUnFQOealY8VWduaTGhjmoXans2TULGkMAeakU1CDUgNNAWI+tW4+lU4zzVxDxVIhky1MKgQ81MDVEjxSimg0ZoAfRTQaXPFAgpKM02kMXNJSE0maQwopKWmAGig03ncemKaEBqKToakJ71FJ901SGj//2Q==\" /><p style=\"width: 256px; margin-top: 5px; font-family: monospace; text-align: center;\">&lt;loc501&gt;&lt;loc440&gt;&lt;loc601&gt;&lt;loc504&gt; grasp</p></div><div style=\"display: inline-flex; flex-direction: column; margin: 10px;\"><img style=\"width:256px; height: 256px;\" src=\"data:image/jpeg;base64,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\" /><p style=\"width: 256px; margin-top: 5px; font-family: monospace; text-align: center;\">&lt;loc501&gt;&lt;loc440&gt;&lt;loc601&gt;&lt;loc504&gt; grasp</p></div><div style=\"display: inline-flex; flex-direction: column; margin: 10px;\"><img style=\"width:256px; height: 256px;\" src=\"data:image/jpeg;base64,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\" /><p style=\"width: 256px; margin-top: 5px; font-family: monospace; text-align: center;\">&lt;loc500&gt;&lt;loc400&gt;&lt;loc601&gt;&lt;loc460&gt; grasp</p></div>"
            ]
          },
          "metadata": {}
        },
        {
          "output_type": "stream",
          "name": "stdout",
          "text": [
            "--- Evaluation complete ---\n",
            "\n",
            "step: 101/574 | lr: 0.02949 | loss: 0.8732\n",
            "step: 102/574 | lr: 0.02947 | loss: 0.8941\n",
            "step: 103/574 | lr: 0.02944 | loss: 0.9532\n",
            "step: 104/574 | lr: 0.02942 | loss: 0.9227\n",
            "step: 105/574 | lr: 0.02939 | loss: 0.9082\n",
            "step: 106/574 | lr: 0.02937 | loss: 0.9943\n",
            "step: 107/574 | lr: 0.02934 | loss: 0.9807\n",
            "step: 108/574 | lr: 0.02931 | loss: 0.9179\n",
            "step: 109/574 | lr: 0.02929 | loss: 0.9511\n",
            "step: 110/574 | lr: 0.02926 | loss: 0.9714\n",
            "step: 111/574 | lr: 0.02923 | loss: 0.9390\n",
            "step: 112/574 | lr: 0.02920 | loss: 0.9264\n",
            "step: 113/574 | lr: 0.02917 | loss: 0.8862\n",
            "step: 114/574 | lr: 0.02914 | loss: 0.9029\n"
          ]
        }
      ]
    },
    {
      "cell_type": "markdown",
      "metadata": {
        "id": "Ai0NMbAwsr0j"
      },
      "source": [
        "# Save the final checkpoint"
      ]
    },
    {
      "cell_type": "code",
      "execution_count": null,
      "metadata": {
        "id": "5H_3CV33_JkV"
      },
      "outputs": [],
      "source": [
        "def npsave(pytree, path):\n",
        "  names_and_vals, _ = big_vision.utils.tree_flatten_with_names(pytree)\n",
        "  with open(path, \"wb\") as f:\n",
        "    np.savez(f, **{k:v for k, v in names_and_vals})\n",
        "\n",
        "# Takes around 4 minutes\n",
        "npsave(params, 'my-custom-paligemma-ckpt.npz')"
      ]
    }
  ],
  "metadata": {
    "accelerator": "GPU",
    "colab": {
      "gpuType": "T4",
      "provenance": [],
      "include_colab_link": true
    },
    "kernelspec": {
      "display_name": "Python 3",
      "name": "python3"
    },
    "language_info": {
      "name": "python"
    },
    "widgets": {
      "application/vnd.jupyter.widget-state+json": {
        "5afedd8a83104fdf915b4896bd3918ec": {
          "model_module": "@jupyter-widgets/controls",
          "model_name": "HBoxModel",
          "model_module_version": "1.5.0",
          "state": {
            "_dom_classes": [],
            "_model_module": "@jupyter-widgets/controls",
            "_model_module_version": "1.5.0",
            "_model_name": "HBoxModel",
            "_view_count": null,
            "_view_module": "@jupyter-widgets/controls",
            "_view_module_version": "1.5.0",
            "_view_name": "HBoxView",
            "box_style": "",
            "children": [
              "IPY_MODEL_d25fd145b2cd43f2a592180232df4211",
              "IPY_MODEL_10472b9b17404227a2657245556cb07e",
              "IPY_MODEL_8b5483ff7bb1466ea02471da663aec18"
            ],
            "layout": "IPY_MODEL_770100dd26784e85b72a594123f6b22b"
          }
        },
        "d25fd145b2cd43f2a592180232df4211": {
          "model_module": "@jupyter-widgets/controls",
          "model_name": "HTMLModel",
          "model_module_version": "1.5.0",
          "state": {
            "_dom_classes": [],
            "_model_module": "@jupyter-widgets/controls",
            "_model_module_version": "1.5.0",
            "_model_name": "HTMLModel",
            "_view_count": null,
            "_view_module": "@jupyter-widgets/controls",
            "_view_module_version": "1.5.0",
            "_view_name": "HTMLView",
            "description": "",
            "description_tooltip": null,
            "layout": "IPY_MODEL_518383af99ab4777961219a182262371",
            "placeholder": "​",
            "style": "IPY_MODEL_56908a53a296471b9f7686b7298ee31e",
            "value": "Processing files: 100%"
          }
        },
        "10472b9b17404227a2657245556cb07e": {
          "model_module": "@jupyter-widgets/controls",
          "model_name": "FloatProgressModel",
          "model_module_version": "1.5.0",
          "state": {
            "_dom_classes": [],
            "_model_module": "@jupyter-widgets/controls",
            "_model_module_version": "1.5.0",
            "_model_name": "FloatProgressModel",
            "_view_count": null,
            "_view_module": "@jupyter-widgets/controls",
            "_view_module_version": "1.5.0",
            "_view_name": "ProgressView",
            "bar_style": "success",
            "description": "",
            "description_tooltip": null,
            "layout": "IPY_MODEL_ef3d92af96e24cb2ad4e1ba438d55731",
            "max": 885,
            "min": 0,
            "orientation": "horizontal",
            "style": "IPY_MODEL_2f5327326a0a4322a783dc11205dcfbb",
            "value": 885
          }
        },
        "8b5483ff7bb1466ea02471da663aec18": {
          "model_module": "@jupyter-widgets/controls",
          "model_name": "HTMLModel",
          "model_module_version": "1.5.0",
          "state": {
            "_dom_classes": [],
            "_model_module": "@jupyter-widgets/controls",
            "_model_module_version": "1.5.0",
            "_model_name": "HTMLModel",
            "_view_count": null,
            "_view_module": "@jupyter-widgets/controls",
            "_view_module_version": "1.5.0",
            "_view_name": "HTMLView",
            "description": "",
            "description_tooltip": null,
            "layout": "IPY_MODEL_0c5f0eddc0aa403f8a92c4ebb4351b77",
            "placeholder": "​",
            "style": "IPY_MODEL_c934007e1e3140679a92c19b4f477c63",
            "value": " 885/885 [00:00&lt;00:00, 13943.25it/s]"
          }
        },
        "770100dd26784e85b72a594123f6b22b": {
          "model_module": "@jupyter-widgets/base",
          "model_name": "LayoutModel",
          "model_module_version": "1.2.0",
          "state": {
            "_model_module": "@jupyter-widgets/base",
            "_model_module_version": "1.2.0",
            "_model_name": "LayoutModel",
            "_view_count": null,
            "_view_module": "@jupyter-widgets/base",
            "_view_module_version": "1.2.0",
            "_view_name": "LayoutView",
            "align_content": null,
            "align_items": null,
            "align_self": null,
            "border": null,
            "bottom": null,
            "display": null,
            "flex": null,
            "flex_flow": null,
            "grid_area": null,
            "grid_auto_columns": null,
            "grid_auto_flow": null,
            "grid_auto_rows": null,
            "grid_column": null,
            "grid_gap": null,
            "grid_row": null,
            "grid_template_areas": null,
            "grid_template_columns": null,
            "grid_template_rows": null,
            "height": null,
            "justify_content": null,
            "justify_items": null,
            "left": null,
            "margin": null,
            "max_height": null,
            "max_width": null,
            "min_height": null,
            "min_width": null,
            "object_fit": null,
            "object_position": null,
            "order": null,
            "overflow": null,
            "overflow_x": null,
            "overflow_y": null,
            "padding": null,
            "right": null,
            "top": null,
            "visibility": null,
            "width": null
          }
        },
        "518383af99ab4777961219a182262371": {
          "model_module": "@jupyter-widgets/base",
          "model_name": "LayoutModel",
          "model_module_version": "1.2.0",
          "state": {
            "_model_module": "@jupyter-widgets/base",
            "_model_module_version": "1.2.0",
            "_model_name": "LayoutModel",
            "_view_count": null,
            "_view_module": "@jupyter-widgets/base",
            "_view_module_version": "1.2.0",
            "_view_name": "LayoutView",
            "align_content": null,
            "align_items": null,
            "align_self": null,
            "border": null,
            "bottom": null,
            "display": null,
            "flex": null,
            "flex_flow": null,
            "grid_area": null,
            "grid_auto_columns": null,
            "grid_auto_flow": null,
            "grid_auto_rows": null,
            "grid_column": null,
            "grid_gap": null,
            "grid_row": null,
            "grid_template_areas": null,
            "grid_template_columns": null,
            "grid_template_rows": null,
            "height": null,
            "justify_content": null,
            "justify_items": null,
            "left": null,
            "margin": null,
            "max_height": null,
            "max_width": null,
            "min_height": null,
            "min_width": null,
            "object_fit": null,
            "object_position": null,
            "order": null,
            "overflow": null,
            "overflow_x": null,
            "overflow_y": null,
            "padding": null,
            "right": null,
            "top": null,
            "visibility": null,
            "width": null
          }
        },
        "56908a53a296471b9f7686b7298ee31e": {
          "model_module": "@jupyter-widgets/controls",
          "model_name": "DescriptionStyleModel",
          "model_module_version": "1.5.0",
          "state": {
            "_model_module": "@jupyter-widgets/controls",
            "_model_module_version": "1.5.0",
            "_model_name": "DescriptionStyleModel",
            "_view_count": null,
            "_view_module": "@jupyter-widgets/base",
            "_view_module_version": "1.2.0",
            "_view_name": "StyleView",
            "description_width": ""
          }
        },
        "ef3d92af96e24cb2ad4e1ba438d55731": {
          "model_module": "@jupyter-widgets/base",
          "model_name": "LayoutModel",
          "model_module_version": "1.2.0",
          "state": {
            "_model_module": "@jupyter-widgets/base",
            "_model_module_version": "1.2.0",
            "_model_name": "LayoutModel",
            "_view_count": null,
            "_view_module": "@jupyter-widgets/base",
            "_view_module_version": "1.2.0",
            "_view_name": "LayoutView",
            "align_content": null,
            "align_items": null,
            "align_self": null,
            "border": null,
            "bottom": null,
            "display": null,
            "flex": null,
            "flex_flow": null,
            "grid_area": null,
            "grid_auto_columns": null,
            "grid_auto_flow": null,
            "grid_auto_rows": null,
            "grid_column": null,
            "grid_gap": null,
            "grid_row": null,
            "grid_template_areas": null,
            "grid_template_columns": null,
            "grid_template_rows": null,
            "height": null,
            "justify_content": null,
            "justify_items": null,
            "left": null,
            "margin": null,
            "max_height": null,
            "max_width": null,
            "min_height": null,
            "min_width": null,
            "object_fit": null,
            "object_position": null,
            "order": null,
            "overflow": null,
            "overflow_x": null,
            "overflow_y": null,
            "padding": null,
            "right": null,
            "top": null,
            "visibility": null,
            "width": null
          }
        },
        "2f5327326a0a4322a783dc11205dcfbb": {
          "model_module": "@jupyter-widgets/controls",
          "model_name": "ProgressStyleModel",
          "model_module_version": "1.5.0",
          "state": {
            "_model_module": "@jupyter-widgets/controls",
            "_model_module_version": "1.5.0",
            "_model_name": "ProgressStyleModel",
            "_view_count": null,
            "_view_module": "@jupyter-widgets/base",
            "_view_module_version": "1.2.0",
            "_view_name": "StyleView",
            "bar_color": null,
            "description_width": ""
          }
        },
        "0c5f0eddc0aa403f8a92c4ebb4351b77": {
          "model_module": "@jupyter-widgets/base",
          "model_name": "LayoutModel",
          "model_module_version": "1.2.0",
          "state": {
            "_model_module": "@jupyter-widgets/base",
            "_model_module_version": "1.2.0",
            "_model_name": "LayoutModel",
            "_view_count": null,
            "_view_module": "@jupyter-widgets/base",
            "_view_module_version": "1.2.0",
            "_view_name": "LayoutView",
            "align_content": null,
            "align_items": null,
            "align_self": null,
            "border": null,
            "bottom": null,
            "display": null,
            "flex": null,
            "flex_flow": null,
            "grid_area": null,
            "grid_auto_columns": null,
            "grid_auto_flow": null,
            "grid_auto_rows": null,
            "grid_column": null,
            "grid_gap": null,
            "grid_row": null,
            "grid_template_areas": null,
            "grid_template_columns": null,
            "grid_template_rows": null,
            "height": null,
            "justify_content": null,
            "justify_items": null,
            "left": null,
            "margin": null,
            "max_height": null,
            "max_width": null,
            "min_height": null,
            "min_width": null,
            "object_fit": null,
            "object_position": null,
            "order": null,
            "overflow": null,
            "overflow_x": null,
            "overflow_y": null,
            "padding": null,
            "right": null,
            "top": null,
            "visibility": null,
            "width": null
          }
        },
        "c934007e1e3140679a92c19b4f477c63": {
          "model_module": "@jupyter-widgets/controls",
          "model_name": "DescriptionStyleModel",
          "model_module_version": "1.5.0",
          "state": {
            "_model_module": "@jupyter-widgets/controls",
            "_model_module_version": "1.5.0",
            "_model_name": "DescriptionStyleModel",
            "_view_count": null,
            "_view_module": "@jupyter-widgets/base",
            "_view_module_version": "1.2.0",
            "_view_name": "StyleView",
            "description_width": ""
          }
        }
      }
    }
  },
  "nbformat": 4,
  "nbformat_minor": 0
}